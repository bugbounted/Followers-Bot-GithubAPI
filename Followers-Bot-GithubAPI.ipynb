{
 "cells": [
  {
   "attachments": {},
   "cell_type": "markdown",
   "id": "d13d5b48",
   "metadata": {},
   "source": [
    "Download,clear & install supplies requirements:"
   ]
  },
  {
   "cell_type": "code",
   "execution_count": null,
   "id": "5ee93924",
   "metadata": {},
   "outputs": [],
   "source": [
    "!git clone https://github.com/bugbounted/Followers-Bot-GithubAPI.git"
   ]
  },
  {
   "cell_type": "code",
   "execution_count": null,
   "id": "a18c23cd",
   "metadata": {},
   "outputs": [],
   "source": [
    "!cd Followers-Bot-GithubAPI && pip install -r requirements.txt"
   ]
  },
  {
   "cell_type": "code",
   "execution_count": null,
   "id": "6dd12936",
   "metadata": {},
   "outputs": [],
   "source": [
    "!cd Followers-Bot-GithubAPI && rm last_page.txt && rm new_users_list.txt && rm Dataset.json"
   ]
  },
  {
   "attachments": {},
   "cell_type": "markdown",
   "id": "5c18f67b",
   "metadata": {},
   "source": [
    "Start following your followers:"
   ]
  },
  {
   "cell_type": "code",
   "execution_count": null,
   "id": "8a8024c2",
   "metadata": {},
   "outputs": [],
   "source": [
    "!cd Followers-Bot-GithubAPI && python following_my_followers.py -m <USERNAME> -t <TOKEN>"
   ]
  },
  {
   "attachments": {},
   "cell_type": "markdown",
   "id": "02859f83",
   "metadata": {},
   "source": [
    "Get random users to follow:"
   ]
  },
  {
   "cell_type": "code",
   "execution_count": null,
   "id": "356732db",
   "metadata": {},
   "outputs": [],
   "source": [
    "!cd Followers-Bot-GithubAPI && python get_random_users.py -m <USERNAME> -t <TOKEN>"
   ]
  },
  {
   "cell_type": "code",
   "execution_count": null,
   "id": "2c787a5c",
   "metadata": {},
   "outputs": [],
   "source": [
    "!cd Followers-Bot-GithubAPI && python following_new_users.py -m <USERNAME> -t <TOKEN>"
   ]
  },
  {
   "attachments": {},
   "cell_type": "markdown",
   "id": "001b747a",
   "metadata": {},
   "source": [
    "Unfollow users who unfollowed me:"
   ]
  },
  {
   "cell_type": "code",
   "execution_count": null,
   "id": "0b5a122a",
   "metadata": {},
   "outputs": [],
   "source": [
    "!cd Followers-Bot-GithubAPI && python unfollowing_my_unfollowers.py -m <USERNAME> -t <TOKEN>"
   ]
  },
  {
   "attachments": {},
   "cell_type": "markdown",
   "id": "b917d177",
   "metadata": {},
   "source": [
    "Create a readme.md file to display all the people who follow me:"
   ]
  },
  {
   "cell_type": "code",
   "execution_count": null,
   "id": "5da405c8",
   "metadata": {},
   "outputs": [],
   "source": [
    "!cd Followers-Bot-GithubAPI && python create_readme.py -m <USERNAME> -t <TOKEN>"
   ]
  }
 ],
 "metadata": {
  "kernelspec": {
   "display_name": "Python 3",
   "language": "python",
   "name": "python3"
  },
  "language_info": {
   "codemirror_mode": {
    "name": "ipython",
    "version": 3
   },
   "file_extension": ".py",
   "mimetype": "text/x-python",
   "name": "python",
   "nbconvert_exporter": "python",
   "pygments_lexer": "ipython3",
   "version": "3.10.9"
  },
  "vscode": {
   "interpreter": {
    "hash": "e7370f93d1d0cde622a1f8e1c04877d8463912d04d973331ad4851f04de6915a"
   }
  }
 },
 "nbformat": 4,
 "nbformat_minor": 5
}
